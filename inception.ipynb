{
 "cells": [
  {
   "cell_type": "code",
   "execution_count": 1,
   "id": "66d0a829",
   "metadata": {},
   "outputs": [],
   "source": [
    "%load_ext autoreload\n",
    "%autoreload 2"
   ]
  },
  {
   "cell_type": "code",
   "execution_count": 2,
   "id": "4fa00b09",
   "metadata": {},
   "outputs": [],
   "source": [
    "import time\n",
    "import warnings"
   ]
  },
  {
   "cell_type": "code",
   "execution_count": 1,
   "id": "0ef109a3",
   "metadata": {},
   "outputs": [],
   "source": [
    "import tensorflow as tf\n",
    "import tensorflow.keras as keras\n",
    "from tensorflow.keras.applications.inception_v3 import InceptionV3, preprocess_input, decode_predictions\n",
    "from tensorflow.keras.models import Model, Sequential\n",
    "from tensorflow.keras.layers import Input, UpSampling2D, Flatten, BatchNormalization, Dense, Dropout, GlobalAveragePooling2D\n",
    "from tensorflow.keras import optimizers\n",
    "from tensorflow.keras.preprocessing.image import ImageDataGenerator"
   ]
  },
  {
   "cell_type": "code",
   "execution_count": 5,
   "id": "e4c69373",
   "metadata": {},
   "outputs": [
    {
     "name": "stdout",
     "output_type": "stream",
     "text": [
      "Collecting gdown\n",
      "  Downloading gdown-4.3.1.tar.gz (13 kB)\n",
      "  Installing build dependencies ... \u001b[?25ldone\n",
      "\u001b[?25h  Getting requirements to build wheel ... \u001b[?25ldone\n",
      "\u001b[?25h  Preparing metadata (pyproject.toml) ... \u001b[?25ldone\n",
      "\u001b[?25hRequirement already satisfied: beautifulsoup4 in /home/ec2-user/anaconda3/envs/tensorflow2_p36/lib/python3.6/site-packages (from gdown) (4.9.3)\n",
      "Requirement already satisfied: filelock in /home/ec2-user/anaconda3/envs/tensorflow2_p36/lib/python3.6/site-packages (from gdown) (3.0.12)\n",
      "Requirement already satisfied: tqdm in /home/ec2-user/anaconda3/envs/tensorflow2_p36/lib/python3.6/site-packages (from gdown) (4.62.3)\n",
      "Requirement already satisfied: requests[socks] in /home/ec2-user/anaconda3/envs/tensorflow2_p36/lib/python3.6/site-packages (from gdown) (2.26.0)\n",
      "Requirement already satisfied: six in /home/ec2-user/anaconda3/envs/tensorflow2_p36/lib/python3.6/site-packages (from gdown) (1.15.0)\n",
      "Requirement already satisfied: soupsieve>1.2 in /home/ec2-user/anaconda3/envs/tensorflow2_p36/lib/python3.6/site-packages (from beautifulsoup4->gdown) (2.0.1)\n",
      "Requirement already satisfied: urllib3<1.27,>=1.21.1 in /home/ec2-user/anaconda3/envs/tensorflow2_p36/lib/python3.6/site-packages (from requests[socks]->gdown) (1.26.7)\n",
      "Requirement already satisfied: charset-normalizer~=2.0.0 in /home/ec2-user/anaconda3/envs/tensorflow2_p36/lib/python3.6/site-packages (from requests[socks]->gdown) (2.0.9)\n",
      "Requirement already satisfied: certifi>=2017.4.17 in /home/ec2-user/anaconda3/envs/tensorflow2_p36/lib/python3.6/site-packages (from requests[socks]->gdown) (2021.5.30)\n",
      "Requirement already satisfied: idna<4,>=2.5 in /home/ec2-user/anaconda3/envs/tensorflow2_p36/lib/python3.6/site-packages (from requests[socks]->gdown) (3.1)\n",
      "Requirement already satisfied: PySocks!=1.5.7,>=1.5.6 in /home/ec2-user/anaconda3/envs/tensorflow2_p36/lib/python3.6/site-packages (from requests[socks]->gdown) (1.7.1)\n",
      "Building wheels for collected packages: gdown\n",
      "  Building wheel for gdown (pyproject.toml) ... \u001b[?25ldone\n",
      "\u001b[?25h  Created wheel for gdown: filename=gdown-4.3.1-py3-none-any.whl size=14493 sha256=b8a25c1c9532e4025e031474096520f429c68f6edda728e187d94172b28becc4\n",
      "  Stored in directory: /home/ec2-user/.cache/pip/wheels/d1/1b/3e/f03df6be3040b0f9a1a29db63caba2d18ae5aa869217dc4199\n",
      "Successfully built gdown\n",
      "Installing collected packages: gdown\n",
      "Successfully installed gdown-4.3.1\n"
     ]
    }
   ],
   "source": [
    "!pip install gdown"
   ]
  },
  {
   "cell_type": "code",
   "execution_count": null,
   "id": "c64c4e37",
   "metadata": {},
   "outputs": [],
   "source": [
    "https://drive.google.com/file/d/1mPBHTBWnoAKOf21niapRghwI1dhsnim9/view?usp=sharing"
   ]
  },
  {
   "cell_type": "code",
   "execution_count": 7,
   "id": "f4abc2f9",
   "metadata": {},
   "outputs": [
    {
     "name": "stderr",
     "output_type": "stream",
     "text": [
      "Downloading...\n",
      "From: https://drive.google.com/uc?id=1mPBHTBWnoAKOf21niapRghwI1dhsnim9\n",
      "To: /home/ec2-user/SageMaker/Explore/Chris/rockAI/rockai_images.tgz\n",
      "100%|██████████| 1.76G/1.76G [00:44<00:00, 39.7MB/s]\n"
     ]
    },
    {
     "data": {
      "text/plain": [
       "'rockai_images.tgz'"
      ]
     },
     "execution_count": 7,
     "metadata": {},
     "output_type": "execute_result"
    }
   ],
   "source": [
    "import gdown\n",
    "\n",
    "url = 'https://drive.google.com/uc?id=1mPBHTBWnoAKOf21niapRghwI1dhsnim9'\n",
    "output = 'rockai_images.h5'\n",
    "gdown.download(url, output, quiet=False)"
   ]
  },
  {
   "cell_type": "code",
   "execution_count": 10,
   "id": "9e13a260",
   "metadata": {},
   "outputs": [],
   "source": [
    "def load_data(filepath):\n",
    "    import h5py\n",
    "    import numpy as np\n",
    "    h5f = h5py.File(filepath, 'r')\n",
    "    X = h5f['X'][:]\n",
    "    classnames = [s.decode('utf-8') for s in h5f['classname'][:]]\n",
    "    filenames = [s.decode('utf-8') for s in h5f['filename'][:]]\n",
    "    h5f.close()\n",
    "    return X, np.array(classnames), np.array(filenames)\n",
    "\n",
    "def create_train_test_idx(classnames):\n",
    "    import pandas as pd\n",
    "    df = pd.DataFrame(data=enumerate(classnames), columns=['index', 'classname'])\n",
    "    test_df = None\n",
    "    train_df = None\n",
    "    for classname in df['classname'].unique():\n",
    "        test_tmp_df = df[df['classname']==classname].sample(50, replace=False, random_state=1234)\n",
    "        train_tmp_df = df[(df['classname']==classname) & ~(df['index'].isin(test_tmp_df['index']))]\n",
    "        test_df = test_tmp_df if test_df is None else pd.concat([test_df, test_tmp_df])\n",
    "        train_df = train_tmp_df if train_df is None else pd.concat([train_df, train_tmp_df])    \n",
    "    return train_df['index'].values, test_df['index'].values\n",
    "    \n",
    "X, classnames, filenames = load_data('rockai_images.h5')\n",
    "train_idx, test_idx = create_train_test_idx(classnames)\n",
    "X_train, X_test = X[train_idx], X[test_idx]\n",
    "y_train = [classnames[i] for i in train_idx]\n",
    "y_test = [classnames[i] for i in test_idx]\n",
    "\n",
    "num_classes = 2\n",
    "\n",
    "#Pre-process the data\n",
    "X_train = preprocess_input(X_train)\n",
    "X_test = preprocess_input(X_test)\n",
    "y_train = [0 if x=='No_RA' else 1 for x in y_train]\n",
    "y_test = [0 if x=='No_RA' else 1 for x in y_test]\n",
    "y_train = tf.keras.utils.to_categorical(y_train, num_classes)\n",
    "y_test = tf.keras.utils.to_categorical(y_test, num_classes)"
   ]
  },
  {
   "cell_type": "code",
   "execution_count": 11,
   "id": "cc7d3d80",
   "metadata": {},
   "outputs": [],
   "source": [
    "import numpy as np\n",
    "\n",
    "def get_random_eraser(p=0.5, s_l=0.02, s_h=0.4, r_1=0.3, r_2=1/0.3, v_l=0, v_h=255, pixel_level=False):\n",
    "    def eraser(input_img):\n",
    "        img_h, img_w, img_c = input_img.shape\n",
    "        p_1 = np.random.rand()\n",
    "\n",
    "        if p_1 > p:\n",
    "            return input_img\n",
    "\n",
    "        while True:\n",
    "            s = np.random.uniform(s_l, s_h) * img_h * img_w\n",
    "            r = np.random.uniform(r_1, r_2)\n",
    "            w = int(np.sqrt(s / r))\n",
    "            h = int(np.sqrt(s * r))\n",
    "            left = np.random.randint(0, img_w)\n",
    "            top = np.random.randint(0, img_h)\n",
    "\n",
    "            if left + w <= img_w and top + h <= img_h:\n",
    "                break\n",
    "\n",
    "        if pixel_level:\n",
    "            c = np.random.uniform(v_l, v_h, (h, w, img_c))\n",
    "        else:\n",
    "            c = np.random.uniform(v_l, v_h)\n",
    "\n",
    "        input_img[top:top + h, left:left + w, :] = c\n",
    "\n",
    "        return input_img\n",
    "\n",
    "    return eraser\n"
   ]
  },
  {
   "cell_type": "code",
   "execution_count": 12,
   "id": "a6f27f7c",
   "metadata": {},
   "outputs": [
    {
     "name": "stdout",
     "output_type": "stream",
     "text": [
      "Downloading data from https://github.com/fchollet/deep-learning-models/releases/download/v0.5/inception_v3_weights_tf_dim_ordering_tf_kernels_notop.h5\n",
      "87916544/87910968 [==============================] - 27s 0us/step\n"
     ]
    }
   ],
   "source": [
    "inception_model = InceptionV3(weights='imagenet', include_top=False, input_shape=(224, 224, 3))\n",
    "inception_model.trainable = False\n",
    "\n",
    "model = Sequential()\n",
    "model.add(inception_model)\n",
    "model.add(GlobalAveragePooling2D())\n",
    "model.add(Dense(256, activation='relu'))\n",
    "model.add(Dropout(.5))\n",
    "model.add(Dense(num_classes, activation='softmax'))"
   ]
  },
  {
   "cell_type": "code",
   "execution_count": 17,
   "id": "8bfa2749",
   "metadata": {},
   "outputs": [],
   "source": [
    "def run_data_random():\n",
    "    X, classnames, filenames = load_data('rockai_images.h5')\n",
    "    train_idx, test_idx = create_train_test_idx(classnames)\n",
    "    X_train, X_test = X[train_idx], X[test_idx]\n",
    "    y_train = [classnames[i] for i in train_idx]\n",
    "    y_test = [classnames[i] for i in test_idx]\n",
    "\n",
    "    #Pre-process the data\n",
    "    X_train = preprocess_input(X_train)\n",
    "    X_test = preprocess_input(X_test)\n",
    "    y_train = [0 if x=='No_RA' else 1 for x in y_train]\n",
    "    y_test = [0 if x=='No_RA' else 1 for x in y_test]\n",
    "    y_train = tf.keras.utils.to_categorical(y_train, num_classes)\n",
    "    y_test = tf.keras.utils.to_categorical(y_test, num_classes)\n",
    "    \n",
    "    return X_train, y_train, X_test, y_test"
   ]
  },
  {
   "cell_type": "code",
   "execution_count": 25,
   "id": "643ec5ea",
   "metadata": {},
   "outputs": [],
   "source": [
    "from sklearn.metrics import f1_score, precision_score, recall_score, confusion_matrix,accuracy_score\n",
    "def run_model(X_train, y_train, X_test, y_test):\n",
    "    datagen = ImageDataGenerator(preprocessing_function=get_random_eraser(v_l=0, v_h=1, pixel_level=True))\n",
    "    # datagen = ImageDataGenerator()\n",
    "    datagen.fit(X_train)\n",
    "    batch_size = 32\n",
    "    model.compile(optimizer='adam', loss='categorical_crossentropy', metrics=['accuracy'])\n",
    "    historytemp = model.fit(datagen.flow(X_train, y_train, batch_size=32),\n",
    "                        steps_per_epoch=X_train.shape[0] // batch_size,\n",
    "                        epochs=30)\n",
    "    # evaluate the model\n",
    "    y_pred1 = model.predict(X_test)\n",
    "    y_pred = np.argmax(y_pred1, axis=1)\n",
    "    #y_test_bool = np.argmax(y_test, axis=1)\n",
    "    #f = f1_score(y_test_bool, y_pred , average=\"macro\")\n",
    "    #a = accuracy_score(y_test_bool, y_pred)\n",
    "    \n",
    "    return y_pred"
   ]
  },
  {
   "cell_type": "code",
   "execution_count": 21,
   "id": "c1f88e93",
   "metadata": {},
   "outputs": [],
   "source": [
    "#X_train, y_train, X_test, y_test = run_data_random()\n",
    "trx = []\n",
    "tex = []\n",
    "trY = []\n",
    "teY = []\n",
    "for i in range(3):\n",
    "    X_train, y_train, X_test, y_test = run_data_random()\n",
    "    trx.append(X_train)\n",
    "    tex.append(X_test)\n",
    "    trY.append(y_train)\n",
    "    teY.append(y_test)"
   ]
  },
  {
   "cell_type": "code",
   "execution_count": 26,
   "id": "68556f51",
   "metadata": {
    "scrolled": true
   },
   "outputs": [
    {
     "name": "stdout",
     "output_type": "stream",
     "text": [
      "WARNING:tensorflow:sample_weight modes were coerced from\n",
      "  ...\n",
      "    to  \n",
      "  ['...']\n",
      "Train for 42 steps\n",
      "Epoch 1/30\n",
      "42/42 [==============================] - 11s 263ms/step - loss: 0.0440 - accuracy: 0.9819\n",
      "Epoch 2/30\n",
      "42/42 [==============================] - 7s 156ms/step - loss: 0.0366 - accuracy: 0.9872\n",
      "Epoch 3/30\n",
      "42/42 [==============================] - 7s 156ms/step - loss: 0.0546 - accuracy: 0.9819\n",
      "Epoch 4/30\n",
      "42/42 [==============================] - 7s 156ms/step - loss: 0.0385 - accuracy: 0.9849\n",
      "Epoch 5/30\n",
      "42/42 [==============================] - 7s 157ms/step - loss: 0.0499 - accuracy: 0.9859\n",
      "Epoch 6/30\n",
      "42/42 [==============================] - 9s 206ms/step - loss: 0.0453 - accuracy: 0.9849\n",
      "Epoch 7/30\n",
      "42/42 [==============================] - 6s 155ms/step - loss: 0.0458 - accuracy: 0.9879\n",
      "Epoch 8/30\n",
      "42/42 [==============================] - 8s 181ms/step - loss: 0.0534 - accuracy: 0.9827\n",
      "Epoch 9/30\n",
      "42/42 [==============================] - 7s 156ms/step - loss: 0.0500 - accuracy: 0.9827\n",
      "Epoch 10/30\n",
      "42/42 [==============================] - 9s 205ms/step - loss: 0.0419 - accuracy: 0.9872\n",
      "Epoch 11/30\n",
      "42/42 [==============================] - 8s 192ms/step - loss: 0.0451 - accuracy: 0.9827\n",
      "Epoch 12/30\n",
      "42/42 [==============================] - 7s 156ms/step - loss: 0.0354 - accuracy: 0.9896\n",
      "Epoch 13/30\n",
      "42/42 [==============================] - 7s 156ms/step - loss: 0.0330 - accuracy: 0.9910\n",
      "Epoch 14/30\n",
      "42/42 [==============================] - 7s 156ms/step - loss: 0.0464 - accuracy: 0.9849\n",
      "Epoch 15/30\n",
      "42/42 [==============================] - 7s 156ms/step - loss: 0.0461 - accuracy: 0.9857\n",
      "Epoch 16/30\n",
      "42/42 [==============================] - 7s 157ms/step - loss: 0.0590 - accuracy: 0.9887\n",
      "Epoch 17/30\n",
      "42/42 [==============================] - 7s 157ms/step - loss: 0.0369 - accuracy: 0.9879\n",
      "Epoch 18/30\n",
      "42/42 [==============================] - 7s 155ms/step - loss: 0.0384 - accuracy: 0.9879\n",
      "Epoch 19/30\n",
      "42/42 [==============================] - 7s 156ms/step - loss: 0.0364 - accuracy: 0.9872\n",
      "Epoch 20/30\n",
      "42/42 [==============================] - 7s 160ms/step - loss: 0.0443 - accuracy: 0.9857\n",
      "Epoch 21/30\n",
      "42/42 [==============================] - 7s 158ms/step - loss: 0.0484 - accuracy: 0.9842\n",
      "Epoch 22/30\n",
      "42/42 [==============================] - 7s 162ms/step - loss: 0.0504 - accuracy: 0.9842\n",
      "Epoch 23/30\n",
      "42/42 [==============================] - 7s 167ms/step - loss: 0.0507 - accuracy: 0.9819\n",
      "Epoch 24/30\n",
      "42/42 [==============================] - 11s 269ms/step - loss: 0.0407 - accuracy: 0.9834\n",
      "Epoch 25/30\n",
      "42/42 [==============================] - 7s 157ms/step - loss: 0.0354 - accuracy: 0.9857\n",
      "Epoch 26/30\n",
      "42/42 [==============================] - 7s 160ms/step - loss: 0.0262 - accuracy: 0.9917\n",
      "Epoch 27/30\n",
      "42/42 [==============================] - 12s 282ms/step - loss: 0.0327 - accuracy: 0.9879\n",
      "Epoch 28/30\n",
      "42/42 [==============================] - 12s 286ms/step - loss: 0.0313 - accuracy: 0.9864\n",
      "Epoch 29/30\n",
      "42/42 [==============================] - 12s 296ms/step - loss: 0.0389 - accuracy: 0.9857\n",
      "Epoch 30/30\n",
      "42/42 [==============================] - 13s 309ms/step - loss: 0.0509 - accuracy: 0.9827\n",
      "done for one repeat\n",
      "WARNING:tensorflow:sample_weight modes were coerced from\n",
      "  ...\n",
      "    to  \n",
      "  ['...']\n",
      "Train for 42 steps\n",
      "Epoch 1/30\n",
      "42/42 [==============================] - 25s 594ms/step - loss: 0.0424 - accuracy: 0.9910\n",
      "Epoch 2/30\n",
      "42/42 [==============================] - 13s 299ms/step - loss: 0.0383 - accuracy: 0.9879\n",
      "Epoch 3/30\n",
      "42/42 [==============================] - 12s 286ms/step - loss: 0.0650 - accuracy: 0.9834\n",
      "Epoch 4/30\n",
      "42/42 [==============================] - 12s 283ms/step - loss: 0.0527 - accuracy: 0.9864\n",
      "Epoch 5/30\n",
      "42/42 [==============================] - 13s 298ms/step - loss: 0.0334 - accuracy: 0.9902\n",
      "Epoch 6/30\n",
      "42/42 [==============================] - 12s 281ms/step - loss: 0.0435 - accuracy: 0.9842\n",
      "Epoch 7/30\n",
      "42/42 [==============================] - 12s 280ms/step - loss: 0.0452 - accuracy: 0.9827\n",
      "Epoch 8/30\n",
      "42/42 [==============================] - 12s 296ms/step - loss: 0.0343 - accuracy: 0.9849\n",
      "Epoch 9/30\n",
      "42/42 [==============================] - 12s 280ms/step - loss: 0.0366 - accuracy: 0.9872\n",
      "Epoch 10/30\n",
      "42/42 [==============================] - 12s 279ms/step - loss: 0.0355 - accuracy: 0.9864\n",
      "Epoch 11/30\n",
      "42/42 [==============================] - 12s 297ms/step - loss: 0.0458 - accuracy: 0.9849\n",
      "Epoch 12/30\n",
      "42/42 [==============================] - 12s 296ms/step - loss: 0.0224 - accuracy: 0.9910\n",
      "Epoch 13/30\n",
      "42/42 [==============================] - 12s 296ms/step - loss: 0.0330 - accuracy: 0.9902\n",
      "Epoch 14/30\n",
      "42/42 [==============================] - 12s 296ms/step - loss: 0.0392 - accuracy: 0.9879\n",
      "Epoch 15/30\n",
      "42/42 [==============================] - 12s 283ms/step - loss: 0.0416 - accuracy: 0.9894\n",
      "Epoch 16/30\n",
      "42/42 [==============================] - 12s 281ms/step - loss: 0.0411 - accuracy: 0.9857\n",
      "Epoch 17/30\n",
      "42/42 [==============================] - 13s 298ms/step - loss: 0.0390 - accuracy: 0.9857\n",
      "Epoch 18/30\n",
      "42/42 [==============================] - 12s 284ms/step - loss: 0.0462 - accuracy: 0.9834\n",
      "Epoch 19/30\n",
      "42/42 [==============================] - 12s 285ms/step - loss: 0.0365 - accuracy: 0.9879\n",
      "Epoch 20/30\n",
      "42/42 [==============================] - 13s 301ms/step - loss: 0.0436 - accuracy: 0.9857\n",
      "Epoch 21/30\n",
      "42/42 [==============================] - 12s 280ms/step - loss: 0.0316 - accuracy: 0.9925\n",
      "Epoch 22/30\n",
      "42/42 [==============================] - 12s 280ms/step - loss: 0.0384 - accuracy: 0.9872\n",
      "Epoch 23/30\n",
      "42/42 [==============================] - 13s 300ms/step - loss: 0.0333 - accuracy: 0.9879\n",
      "Epoch 24/30\n",
      "42/42 [==============================] - 12s 281ms/step - loss: 0.0329 - accuracy: 0.9864\n",
      "Epoch 25/30\n",
      "42/42 [==============================] - 12s 285ms/step - loss: 0.0469 - accuracy: 0.9879\n",
      "Epoch 26/30\n",
      "42/42 [==============================] - 13s 298ms/step - loss: 0.0451 - accuracy: 0.9834\n",
      "Epoch 27/30\n",
      "42/42 [==============================] - 13s 301ms/step - loss: 0.0436 - accuracy: 0.9887\n",
      "Epoch 28/30\n",
      "42/42 [==============================] - 12s 287ms/step - loss: 0.0442 - accuracy: 0.9872\n",
      "Epoch 29/30\n",
      "42/42 [==============================] - 13s 304ms/step - loss: 0.0355 - accuracy: 0.9917\n",
      "Epoch 30/30\n",
      "42/42 [==============================] - 12s 281ms/step - loss: 0.0447 - accuracy: 0.9864\n",
      "done for one repeat\n",
      "WARNING:tensorflow:sample_weight modes were coerced from\n",
      "  ...\n",
      "    to  \n",
      "  ['...']\n",
      "Train for 42 steps\n",
      "Epoch 1/30\n",
      "42/42 [==============================] - 26s 624ms/step - loss: 0.0418 - accuracy: 0.9872\n",
      "Epoch 2/30\n",
      "42/42 [==============================] - 12s 281ms/step - loss: 0.0451 - accuracy: 0.9834\n",
      "Epoch 3/30\n",
      "42/42 [==============================] - 12s 280ms/step - loss: 0.0373 - accuracy: 0.9894\n",
      "Epoch 4/30\n",
      "42/42 [==============================] - 13s 299ms/step - loss: 0.0364 - accuracy: 0.9894\n",
      "Epoch 5/30\n",
      "42/42 [==============================] - 12s 278ms/step - loss: 0.0480 - accuracy: 0.9849\n",
      "Epoch 6/30\n",
      "42/42 [==============================] - 12s 281ms/step - loss: 0.0401 - accuracy: 0.9857\n",
      "Epoch 7/30\n",
      "42/42 [==============================] - 12s 296ms/step - loss: 0.0379 - accuracy: 0.9872\n",
      "Epoch 8/30\n",
      "42/42 [==============================] - 12s 281ms/step - loss: 0.0538 - accuracy: 0.9811\n",
      "Epoch 9/30\n",
      "42/42 [==============================] - 12s 281ms/step - loss: 0.0345 - accuracy: 0.9887\n",
      "Epoch 10/30\n",
      "42/42 [==============================] - 13s 318ms/step - loss: 0.0338 - accuracy: 0.9894\n",
      "Epoch 11/30\n",
      "42/42 [==============================] - 12s 283ms/step - loss: 0.0326 - accuracy: 0.9925\n",
      "Epoch 12/30\n",
      "42/42 [==============================] - 12s 281ms/step - loss: 0.0367 - accuracy: 0.9902\n",
      "Epoch 13/30\n",
      "42/42 [==============================] - 13s 303ms/step - loss: 0.0390 - accuracy: 0.9857\n",
      "Epoch 14/30\n",
      "42/42 [==============================] - 12s 281ms/step - loss: 0.0404 - accuracy: 0.9827\n",
      "Epoch 15/30\n",
      "42/42 [==============================] - 12s 280ms/step - loss: 0.0378 - accuracy: 0.9872\n",
      "Epoch 16/30\n",
      "42/42 [==============================] - 13s 298ms/step - loss: 0.0262 - accuracy: 0.9910\n",
      "Epoch 17/30\n",
      "42/42 [==============================] - 12s 283ms/step - loss: 0.0319 - accuracy: 0.9879\n",
      "Epoch 18/30\n",
      "42/42 [==============================] - 12s 280ms/step - loss: 0.0377 - accuracy: 0.9879\n",
      "Epoch 19/30\n",
      "42/42 [==============================] - 12s 297ms/step - loss: 0.0346 - accuracy: 0.9917\n",
      "Epoch 20/30\n",
      "42/42 [==============================] - 12s 281ms/step - loss: 0.0338 - accuracy: 0.9887\n",
      "Epoch 21/30\n",
      "42/42 [==============================] - 12s 281ms/step - loss: 0.0448 - accuracy: 0.9872\n",
      "Epoch 22/30\n",
      "42/42 [==============================] - 13s 298ms/step - loss: 0.0365 - accuracy: 0.9864\n",
      "Epoch 23/30\n",
      "42/42 [==============================] - 12s 280ms/step - loss: 0.0316 - accuracy: 0.9887\n",
      "Epoch 24/30\n",
      "42/42 [==============================] - 12s 278ms/step - loss: 0.0326 - accuracy: 0.9894\n",
      "Epoch 25/30\n",
      "42/42 [==============================] - 14s 324ms/step - loss: 0.0437 - accuracy: 0.9864\n",
      "Epoch 26/30\n",
      "42/42 [==============================] - 12s 283ms/step - loss: 0.0384 - accuracy: 0.9864\n",
      "Epoch 27/30\n",
      "42/42 [==============================] - 12s 280ms/step - loss: 0.0295 - accuracy: 0.9887\n",
      "Epoch 28/30\n",
      "42/42 [==============================] - 13s 298ms/step - loss: 0.0373 - accuracy: 0.9872\n",
      "Epoch 29/30\n",
      "42/42 [==============================] - 12s 282ms/step - loss: 0.0398 - accuracy: 0.9887\n",
      "Epoch 30/30\n",
      "42/42 [==============================] - 12s 283ms/step - loss: 0.0319 - accuracy: 0.9894\n",
      "done for one repeat\n"
     ]
    }
   ],
   "source": [
    "pred_all= []\n",
    "\n",
    "\n",
    "for i in range(3):\n",
    "    y_pred = run_model(trx[i],trY[i],tex[i],teY[i])\n",
    "    pred_all.append(y_pred)\n",
    "    print('done for one repeat')"
   ]
  },
  {
   "cell_type": "code",
   "execution_count": 15,
   "id": "110e5b26",
   "metadata": {},
   "outputs": [
    {
     "data": {
      "text/plain": [
       "[0.84]"
      ]
     },
     "execution_count": 15,
     "metadata": {},
     "output_type": "execute_result"
    }
   ],
   "source": [
    "acc"
   ]
  },
  {
   "cell_type": "code",
   "execution_count": 16,
   "id": "7084bc6c",
   "metadata": {},
   "outputs": [
    {
     "data": {
      "text/plain": [
       "[0.8357963875205254]"
      ]
     },
     "execution_count": 16,
     "metadata": {},
     "output_type": "execute_result"
    }
   ],
   "source": [
    "f1"
   ]
  },
  {
   "cell_type": "code",
   "execution_count": 27,
   "id": "e4fad760",
   "metadata": {},
   "outputs": [
    {
     "name": "stdout",
     "output_type": "stream",
     "text": [
      "0.75 0.8\n"
     ]
    }
   ],
   "source": [
    "y_test_bool = np.argmax(y_test, axis=1)\n",
    "a = accuracy_score(y_test_bool, pred_all[0])\n",
    "f = f1_score(y_test_bool, pred_all[0])\n",
    "print(a,f)"
   ]
  },
  {
   "cell_type": "code",
   "execution_count": 28,
   "id": "f6c15243",
   "metadata": {},
   "outputs": [
    {
     "name": "stdout",
     "output_type": "stream",
     "text": [
      "0.85 0.8695652173913044\n"
     ]
    }
   ],
   "source": [
    "a = accuracy_score(y_test_bool, pred_all[1])\n",
    "f = f1_score(y_test_bool, pred_all[1])\n",
    "print(a,f)"
   ]
  },
  {
   "cell_type": "code",
   "execution_count": 29,
   "id": "6a617692",
   "metadata": {},
   "outputs": [
    {
     "name": "stdout",
     "output_type": "stream",
     "text": [
      "0.76 0.8064516129032258\n"
     ]
    }
   ],
   "source": [
    "a = accuracy_score(y_test_bool, pred_all[2])\n",
    "f = f1_score(y_test_bool, pred_all[2])\n",
    "print(a,f)"
   ]
  },
  {
   "cell_type": "code",
   "execution_count": 30,
   "id": "5b9220bd",
   "metadata": {},
   "outputs": [
    {
     "name": "stdout",
     "output_type": "stream",
     "text": [
      "0.7866666666666667\n",
      "0.8253166666666667\n"
     ]
    }
   ],
   "source": [
    "print(np.mean([0.75,0.85,0.76]))\n",
    "print(np.mean([0.80,0.8695,0.80645]))"
   ]
  },
  {
   "cell_type": "code",
   "execution_count": null,
   "id": "748a1ad1",
   "metadata": {},
   "outputs": [],
   "source": []
  }
 ],
 "metadata": {
  "kernelspec": {
   "display_name": "conda_tensorflow2_p36",
   "language": "python",
   "name": "conda_tensorflow2_p36"
  },
  "language_info": {
   "codemirror_mode": {
    "name": "ipython",
    "version": 3
   },
   "file_extension": ".py",
   "mimetype": "text/x-python",
   "name": "python",
   "nbconvert_exporter": "python",
   "pygments_lexer": "ipython3",
   "version": "3.6.13"
  }
 },
 "nbformat": 4,
 "nbformat_minor": 5
}
