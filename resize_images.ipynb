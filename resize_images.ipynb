{
 "cells": [
  {
   "cell_type": "code",
   "execution_count": 1,
   "id": "hundred-rocket",
   "metadata": {},
   "outputs": [],
   "source": [
    "%load_ext autoreload\n",
    "%autoreload 2"
   ]
  },
  {
   "cell_type": "code",
   "execution_count": 2,
   "id": "resident-bench",
   "metadata": {},
   "outputs": [],
   "source": [
    "from glob import glob\n",
    "import numpy as np\n",
    "import pandas as pd\n",
    "import tensorflow as tf\n",
    "import h5py\n",
    "import os\n",
    "from PIL import Image"
   ]
  },
  {
   "cell_type": "code",
   "execution_count": 3,
   "id": "enclosed-essence",
   "metadata": {},
   "outputs": [],
   "source": [
    "data_dir = '/Users/nayyarz/WLocalData/rockAI/data/original/'\n",
    "out_dir = '/Users/nayyarz/WLocalData/rockAI/'\n",
    "image_size = (224, 224)"
   ]
  },
  {
   "cell_type": "code",
   "execution_count": null,
   "id": "wooden-soviet",
   "metadata": {},
   "outputs": [],
   "source": []
  },
  {
   "cell_type": "code",
   "execution_count": 4,
   "id": "fewer-crossing",
   "metadata": {},
   "outputs": [
    {
     "name": "stdout",
     "output_type": "stream",
     "text": [
      "['/Users/nayyarz/WPods/pycharm_works/rockAI/data/original/RA/P1033527.JPG', '/Users/nayyarz/WPods/pycharm_works/rockAI/data/original/RA/IMG_5811.JPG', '/Users/nayyarz/WPods/pycharm_works/rockAI/data/original/RA/P1033533.JPG', '/Users/nayyarz/WPods/pycharm_works/rockAI/data/original/RA/P1033269.JPG', '/Users/nayyarz/WPods/pycharm_works/rockAI/data/original/RA/IMG_5150.JPG']\n"
     ]
    }
   ],
   "source": [
    "filepaths = [f for f in glob(os.path.join(data_dir, '**'), recursive=True)\n",
    "             if os.path.isfile(f) and os.path.splitext(f)[-1].lower() in ['.jpg', '.png']]\n",
    "print(filepaths[:5])"
   ]
  },
  {
   "cell_type": "code",
   "execution_count": 5,
   "id": "important-tournament",
   "metadata": {},
   "outputs": [
    {
     "data": {
      "text/plain": [
       "1458"
      ]
     },
     "execution_count": 5,
     "metadata": {},
     "output_type": "execute_result"
    }
   ],
   "source": [
    "len(filepaths)"
   ]
  },
  {
   "cell_type": "code",
   "execution_count": 6,
   "id": "southeast-playlist",
   "metadata": {},
   "outputs": [
    {
     "name": "stdout",
     "output_type": "stream",
     "text": [
      "[1458/1458] /Users/nayyarz/WPods/pycharm_works/rockAI/data/original/No_RA/IMG_2801.JPG\r"
     ]
    }
   ],
   "source": [
    "_old_s = ''\n",
    "\n",
    "def print_progress(s):\n",
    "    \n",
    "    global _old_s\n",
    "    print(' ' * len(_old_s), end='\\r')\n",
    "    print(s, end='\\r', flush=True)\n",
    "    _old_s = s\n",
    "\n",
    "def load_images(paths):\n",
    "    \n",
    "    N = len(paths)\n",
    "    X = np.zeros((N, image_size[0], image_size[1], 3))\n",
    "\n",
    "    for i, path in enumerate(paths):        \n",
    "        print_progress(f'[{i+1}/{N}] {path}')\n",
    "        img = Image.open(path)\n",
    "        img = img.resize(image_size)\n",
    "        X[i] = np.array(img)\n",
    "    \n",
    "    return X\n",
    "\n",
    "X = load_images(filepaths)"
   ]
  },
  {
   "cell_type": "code",
   "execution_count": 7,
   "id": "governing-sessions",
   "metadata": {},
   "outputs": [],
   "source": [
    "relpaths = [os.path.relpath(f, data_dir) for f in filepaths]\n",
    "classnames = [f.split('/', 1)[0] for f in relpaths]\n",
    "filenames = [f.split('/', 1)[1] for f in relpaths]"
   ]
  },
  {
   "cell_type": "code",
   "execution_count": 8,
   "id": "requested-walnut",
   "metadata": {},
   "outputs": [
    {
     "data": {
      "text/plain": [
       "array(['No_RA', 'RA'], dtype='<U5')"
      ]
     },
     "execution_count": 8,
     "metadata": {},
     "output_type": "execute_result"
    }
   ],
   "source": [
    "np.unique(classnames)"
   ]
  },
  {
   "cell_type": "code",
   "execution_count": 15,
   "id": "institutional-break",
   "metadata": {},
   "outputs": [
    {
     "data": {
      "text/plain": [
       "1458"
      ]
     },
     "execution_count": 15,
     "metadata": {},
     "output_type": "execute_result"
    }
   ],
   "source": [
    "len(classnames)"
   ]
  },
  {
   "cell_type": "code",
   "execution_count": 16,
   "id": "british-conducting",
   "metadata": {},
   "outputs": [],
   "source": [
    "np_classnames = np.array(classnames)\n",
    "indicies = np.where(np_classnames == '100CANON')[0]\n",
    "np_classnames[indicies] = 'No_RA'"
   ]
  },
  {
   "cell_type": "code",
   "execution_count": 17,
   "id": "continent-marijuana",
   "metadata": {},
   "outputs": [],
   "source": [
    "classnames = np_classnames.tolist()"
   ]
  },
  {
   "cell_type": "code",
   "execution_count": 18,
   "id": "exciting-sewing",
   "metadata": {},
   "outputs": [
    {
     "data": {
      "text/plain": [
       "array(['No_RA', 'RA'], dtype='<U5')"
      ]
     },
     "execution_count": 18,
     "metadata": {},
     "output_type": "execute_result"
    }
   ],
   "source": [
    "np.unique(classnames)"
   ]
  },
  {
   "cell_type": "code",
   "execution_count": 19,
   "id": "social-title",
   "metadata": {},
   "outputs": [
    {
     "data": {
      "text/plain": [
       "1339"
      ]
     },
     "execution_count": 19,
     "metadata": {},
     "output_type": "execute_result"
    }
   ],
   "source": [
    "len(np.where(np_classnames == 'RA')[0])"
   ]
  },
  {
   "cell_type": "code",
   "execution_count": 20,
   "id": "talented-facial",
   "metadata": {},
   "outputs": [
    {
     "data": {
      "text/plain": [
       "119"
      ]
     },
     "execution_count": 20,
     "metadata": {},
     "output_type": "execute_result"
    }
   ],
   "source": [
    "len(np.where(np_classnames == 'No_RA')[0])"
   ]
  },
  {
   "cell_type": "code",
   "execution_count": 21,
   "id": "statewide-alcohol",
   "metadata": {},
   "outputs": [],
   "source": [
    "h5f = h5py.File(os.path.join(out_dir, f'RockAI_images_{image_size[0]}x{image_size[1]}.h5'), 'w')\n",
    "h5f['X'] = X\n",
    "h5f['filename'] = np.array(filenames).astype('S10')\n",
    "h5f['classname'] = np.array(classnames).astype('S10')\n",
    "h5f.close()"
   ]
  },
  {
   "cell_type": "code",
   "execution_count": null,
   "id": "parliamentary-threat",
   "metadata": {},
   "outputs": [],
   "source": []
  }
 ],
 "metadata": {
  "kernelspec": {
   "display_name": "Python 3",
   "language": "python",
   "name": "python3"
  },
  "language_info": {
   "codemirror_mode": {
    "name": "ipython",
    "version": 3
   },
   "file_extension": ".py",
   "mimetype": "text/x-python",
   "name": "python",
   "nbconvert_exporter": "python",
   "pygments_lexer": "ipython3",
   "version": "3.7.9"
  }
 },
 "nbformat": 4,
 "nbformat_minor": 5
}
